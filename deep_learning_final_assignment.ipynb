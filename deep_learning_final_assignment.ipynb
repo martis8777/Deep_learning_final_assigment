{
 "cells": [
  {
   "cell_type": "markdown",
   "metadata": {},
   "source": [
    "# Final assignment\n",
    "\n",
    "<br/> Martynas Motiejunas\n",
    "<br/> email: martynas.mo8777@go.kauko.lt\n",
    "\n",
    "## Task:\n",
    "\n",
    "Download 10 years of data from website: https://finance.yahoo.com/ company of choice and build a neural networks to predict it's stock price."
   ]
  },
  {
   "cell_type": "markdown",
   "metadata": {},
   "source": [
    "## Data loading and pre-processing"
   ]
  },
  {
   "cell_type": "code",
   "execution_count": 1,
   "metadata": {},
   "outputs": [],
   "source": [
    "#importing the libraries\n",
    "import numpy as np\n",
    "import matplotlib.pyplot as plt\n",
    "import pandas as pd"
   ]
  },
  {
   "cell_type": "markdown",
   "metadata": {},
   "source": [
    "### Importing the dataset"
   ]
  },
  {
   "cell_type": "code",
   "execution_count": 2,
   "metadata": {},
   "outputs": [
    {
     "data": {
      "text/html": [
       "<div>\n",
       "<style scoped>\n",
       "    .dataframe tbody tr th:only-of-type {\n",
       "        vertical-align: middle;\n",
       "    }\n",
       "\n",
       "    .dataframe tbody tr th {\n",
       "        vertical-align: top;\n",
       "    }\n",
       "\n",
       "    .dataframe thead th {\n",
       "        text-align: right;\n",
       "    }\n",
       "</style>\n",
       "<table border=\"1\" class=\"dataframe\">\n",
       "  <thead>\n",
       "    <tr style=\"text-align: right;\">\n",
       "      <th></th>\n",
       "      <th>Date</th>\n",
       "      <th>Open</th>\n",
       "      <th>High</th>\n",
       "      <th>Low</th>\n",
       "      <th>Close</th>\n",
       "      <th>Adj Close</th>\n",
       "      <th>Volume</th>\n",
       "    </tr>\n",
       "  </thead>\n",
       "  <tbody>\n",
       "    <tr>\n",
       "      <td>0</td>\n",
       "      <td>2009-07-30</td>\n",
       "      <td>19.570000</td>\n",
       "      <td>19.799999</td>\n",
       "      <td>19.299999</td>\n",
       "      <td>19.330000</td>\n",
       "      <td>14.056325</td>\n",
       "      <td>60640900</td>\n",
       "    </tr>\n",
       "    <tr>\n",
       "      <td>1</td>\n",
       "      <td>2009-07-31</td>\n",
       "      <td>19.340000</td>\n",
       "      <td>19.559999</td>\n",
       "      <td>19.250000</td>\n",
       "      <td>19.250000</td>\n",
       "      <td>13.998153</td>\n",
       "      <td>47557600</td>\n",
       "    </tr>\n",
       "    <tr>\n",
       "      <td>2</td>\n",
       "      <td>2009-08-03</td>\n",
       "      <td>19.480000</td>\n",
       "      <td>19.559999</td>\n",
       "      <td>19.180000</td>\n",
       "      <td>19.370001</td>\n",
       "      <td>14.085413</td>\n",
       "      <td>44330800</td>\n",
       "    </tr>\n",
       "    <tr>\n",
       "      <td>3</td>\n",
       "      <td>2009-08-04</td>\n",
       "      <td>19.209999</td>\n",
       "      <td>19.379999</td>\n",
       "      <td>19.150000</td>\n",
       "      <td>19.320000</td>\n",
       "      <td>14.049059</td>\n",
       "      <td>46880800</td>\n",
       "    </tr>\n",
       "    <tr>\n",
       "      <td>4</td>\n",
       "      <td>2009-08-05</td>\n",
       "      <td>19.270000</td>\n",
       "      <td>19.299999</td>\n",
       "      <td>18.860001</td>\n",
       "      <td>18.860001</td>\n",
       "      <td>13.814657</td>\n",
       "      <td>60035000</td>\n",
       "    </tr>\n",
       "  </tbody>\n",
       "</table>\n",
       "</div>"
      ],
      "text/plain": [
       "         Date       Open       High        Low      Close  Adj Close    Volume\n",
       "0  2009-07-30  19.570000  19.799999  19.299999  19.330000  14.056325  60640900\n",
       "1  2009-07-31  19.340000  19.559999  19.250000  19.250000  13.998153  47557600\n",
       "2  2009-08-03  19.480000  19.559999  19.180000  19.370001  14.085413  44330800\n",
       "3  2009-08-04  19.209999  19.379999  19.150000  19.320000  14.049059  46880800\n",
       "4  2009-08-05  19.270000  19.299999  18.860001  18.860001  13.814657  60035000"
      ]
     },
     "execution_count": 2,
     "metadata": {},
     "output_type": "execute_result"
    }
   ],
   "source": [
    "#importing the dataset and loading the file contents \n",
    "dataset_train = pd.read_csv('INTEL_train.csv')\n",
    "#calling head() function to see if the file is read\n",
    "dataset_train.head()"
   ]
  },
  {
   "cell_type": "code",
   "execution_count": 3,
   "metadata": {},
   "outputs": [
    {
     "data": {
      "text/plain": [
       "array([[19.57    ],\n",
       "       [19.34    ],\n",
       "       [19.48    ],\n",
       "       ...,\n",
       "       [52.689999],\n",
       "       [51.529999],\n",
       "       [51.709999]])"
      ]
     },
     "execution_count": 3,
     "metadata": {},
     "output_type": "execute_result"
    }
   ],
   "source": [
    "# Seperating \"Open\" column data because we are going to use it to train our neural network\n",
    "training_set = dataset_train.iloc[:, 1:2].values \n",
    "# Show separated \"Open\" colum data in an array\n",
    "training_set"
   ]
  },
  {
   "cell_type": "markdown",
   "metadata": {},
   "source": [
    "### Feature Scaling\n",
    "\n",
    "Next we need to rescale our data to the range from 0 to 1 using MinMaxScaler. \n"
   ]
  },
  {
   "cell_type": "code",
   "execution_count": 4,
   "metadata": {},
   "outputs": [],
   "source": [
    "# Feature Scaling\n",
    "\n",
    "# importing the MinMaxScaler\n",
    "from sklearn.preprocessing import MinMaxScaler"
   ]
  },
  {
   "cell_type": "code",
   "execution_count": 5,
   "metadata": {},
   "outputs": [],
   "source": [
    "#Creating a scaler instance to rescale all data to the range of 0 to 1\n",
    "sc = MinMaxScaler(feature_range = (0, 1))"
   ]
  },
  {
   "cell_type": "code",
   "execution_count": 6,
   "metadata": {},
   "outputs": [
    {
     "data": {
      "text/plain": [
       "array([[0.04120949],\n",
       "       [0.0356011 ],\n",
       "       [0.0390149 ],\n",
       "       ...,\n",
       "       [0.84881736],\n",
       "       [0.82053158],\n",
       "       [0.82492075]])"
      ]
     },
     "execution_count": 6,
     "metadata": {},
     "output_type": "execute_result"
    }
   ],
   "source": [
    "#Creating the actual training set of scaled values\n",
    "training_set_scaled = sc.fit_transform(training_set)\n",
    "#Then checking it with this command:\n",
    "training_set_scaled"
   ]
  },
  {
   "cell_type": "markdown",
   "metadata": {},
   "source": [
    "### Splitting the training set to dependent and independent variables"
   ]
  },
  {
   "cell_type": "code",
   "execution_count": 7,
   "metadata": {},
   "outputs": [],
   "source": [
    "#Creating a data structure\n",
    "\n",
    "#The 90 stock prices in the last 4.5 months before today\n",
    "X_train = [] "
   ]
  },
  {
   "cell_type": "code",
   "execution_count": 8,
   "metadata": {},
   "outputs": [],
   "source": [
    "#The stock price today\n",
    "y_train = [] "
   ]
  },
  {
   "cell_type": "code",
   "execution_count": 9,
   "metadata": {},
   "outputs": [],
   "source": [
    "# we start from day 90 because that is the first instance allowing us to \n",
    "# go back 90 days\n",
    "for i in range(90, 2517): \n",
    "    # 0 is the column ID, the only column in this case.    \n",
    "    # put the last 90 days values in one row of X_train\n",
    "    X_train.append(training_set_scaled[i-90:i, 0]) \n",
    "    y_train.append(training_set_scaled[i, 0])\n"
   ]
  },
  {
   "cell_type": "code",
   "execution_count": 10,
   "metadata": {},
   "outputs": [
    {
     "data": {
      "text/plain": [
       "array([[0.04120949, 0.0356011 , 0.0390149 , ..., 0.04437947, 0.0458425 ,\n",
       "        0.05632777],\n",
       "       [0.0356011 , 0.0390149 , 0.03243111, ..., 0.0458425 , 0.05632777,\n",
       "        0.05681541],\n",
       "       [0.0390149 , 0.03243111, 0.0338942 , ..., 0.05632777, 0.05681541,\n",
       "        0.05779081],\n",
       "       ...,\n",
       "       [0.89222146, 0.8822239 , 0.87881002, ..., 0.83199222, 0.83150454,\n",
       "        0.84442816],\n",
       "       [0.8822239 , 0.87881002, 0.89051458, ..., 0.83150454, 0.84442816,\n",
       "        0.84881736],\n",
       "       [0.87881002, 0.89051458, 0.85564501, ..., 0.84442816, 0.84881736,\n",
       "        0.82053158]])"
      ]
     },
     "execution_count": 10,
     "metadata": {},
     "output_type": "execute_result"
    }
   ],
   "source": [
    "#Converting the X and Y arrays into NumPy arrays\n",
    "X_train, y_train = np.array(X_train), np.array(y_train)\n",
    "\n",
    "X_train"
   ]
  },
  {
   "cell_type": "markdown",
   "metadata": {},
   "source": [
    "### Reshaping the Matrix\n",
    "\n",
    "We need to add a new matrix dimension to accommodate the indicator (predictor). \n",
    "\n",
    "NumPy matrices are tensors (3D) and essentially we need to specify that our matrix consists of **90 days** (dimension x) times **total days in data set** (dimension y) times **1 value per matrix cell (scalar)** (dimension z)"
   ]
  },
  {
   "cell_type": "code",
   "execution_count": 11,
   "metadata": {},
   "outputs": [],
   "source": [
    "#Reshaping the data matrix, we retain the 2 original dimensions and add a third of depth=1\n",
    "X_train = np.reshape(X_train, (X_train.shape[0], X_train.shape[1], 1))"
   ]
  },
  {
   "cell_type": "markdown",
   "metadata": {},
   "source": [
    "## Building the RNN"
   ]
  },
  {
   "cell_type": "code",
   "execution_count": 12,
   "metadata": {},
   "outputs": [
    {
     "name": "stderr",
     "output_type": "stream",
     "text": [
      "Using TensorFlow backend.\n",
      "/opt/conda/lib/python3.7/site-packages/tensorflow/python/framework/dtypes.py:526: FutureWarning: Passing (type, 1) or '1type' as a synonym of type is deprecated; in a future version of numpy, it will be understood as (type, (1,)) / '(1,)type'.\n",
      "  _np_qint8 = np.dtype([(\"qint8\", np.int8, 1)])\n",
      "/opt/conda/lib/python3.7/site-packages/tensorflow/python/framework/dtypes.py:527: FutureWarning: Passing (type, 1) or '1type' as a synonym of type is deprecated; in a future version of numpy, it will be understood as (type, (1,)) / '(1,)type'.\n",
      "  _np_quint8 = np.dtype([(\"quint8\", np.uint8, 1)])\n",
      "/opt/conda/lib/python3.7/site-packages/tensorflow/python/framework/dtypes.py:528: FutureWarning: Passing (type, 1) or '1type' as a synonym of type is deprecated; in a future version of numpy, it will be understood as (type, (1,)) / '(1,)type'.\n",
      "  _np_qint16 = np.dtype([(\"qint16\", np.int16, 1)])\n",
      "/opt/conda/lib/python3.7/site-packages/tensorflow/python/framework/dtypes.py:529: FutureWarning: Passing (type, 1) or '1type' as a synonym of type is deprecated; in a future version of numpy, it will be understood as (type, (1,)) / '(1,)type'.\n",
      "  _np_quint16 = np.dtype([(\"quint16\", np.uint16, 1)])\n",
      "/opt/conda/lib/python3.7/site-packages/tensorflow/python/framework/dtypes.py:530: FutureWarning: Passing (type, 1) or '1type' as a synonym of type is deprecated; in a future version of numpy, it will be understood as (type, (1,)) / '(1,)type'.\n",
      "  _np_qint32 = np.dtype([(\"qint32\", np.int32, 1)])\n",
      "/opt/conda/lib/python3.7/site-packages/tensorflow/python/framework/dtypes.py:535: FutureWarning: Passing (type, 1) or '1type' as a synonym of type is deprecated; in a future version of numpy, it will be understood as (type, (1,)) / '(1,)type'.\n",
      "  np_resource = np.dtype([(\"resource\", np.ubyte, 1)])\n"
     ]
    }
   ],
   "source": [
    "# Importing the Keras libraries and packages\n",
    "from keras.models import Sequential\n",
    "from keras.layers import Dense\n",
    "from keras.layers import LSTM\n",
    "from keras.layers import Dropout"
   ]
  },
  {
   "cell_type": "code",
   "execution_count": 13,
   "metadata": {},
   "outputs": [],
   "source": [
    "# Initialising the RNN as a sequence of layers\n",
    "regressor = Sequential()"
   ]
  },
  {
   "cell_type": "markdown",
   "metadata": {},
   "source": [
    "### Adding First Layer\n"
   ]
  },
  {
   "cell_type": "code",
   "execution_count": 14,
   "metadata": {},
   "outputs": [
    {
     "name": "stdout",
     "output_type": "stream",
     "text": [
      "WARNING:tensorflow:From /opt/conda/lib/python3.7/site-packages/tensorflow/python/framework/op_def_library.py:263: colocate_with (from tensorflow.python.framework.ops) is deprecated and will be removed in a future version.\n",
      "Instructions for updating:\n",
      "Colocations handled automatically by placer.\n"
     ]
    }
   ],
   "source": [
    "# Adding the input layer and the LSTM (Long short-term memory) layer\n",
    "regressor.add(LSTM(units = 70, return_sequences = True, input_shape =  (X_train.shape[1], 1)))"
   ]
  },
  {
   "cell_type": "code",
   "execution_count": 15,
   "metadata": {},
   "outputs": [
    {
     "name": "stdout",
     "output_type": "stream",
     "text": [
      "WARNING:tensorflow:From /opt/conda/lib/python3.7/site-packages/keras/backend/tensorflow_backend.py:3733: calling dropout (from tensorflow.python.ops.nn_ops) with keep_prob is deprecated and will be removed in a future version.\n",
      "Instructions for updating:\n",
      "Please use `rate` instead of `keep_prob`. Rate should be set to `rate = 1 - keep_prob`.\n"
     ]
    }
   ],
   "source": [
    "# the argument is the dropout rate to ignore in the layers (20%)\n",
    "regressor.add(Dropout(0.2))\n"
   ]
  },
  {
   "cell_type": "markdown",
   "metadata": {},
   "source": [
    "### Adding More Layers\n",
    "\n",
    "We can add more LSTM layers but along with Dropout regularization to make sure we avoid overfitting! \n"
   ]
  },
  {
   "cell_type": "code",
   "execution_count": 16,
   "metadata": {},
   "outputs": [],
   "source": [
    "# Adding a second LSTM layer and some Dropout regularisation\n",
    "regressor.add(LSTM(units = 70, return_sequences = True))\n",
    "regressor.add(Dropout(0.2))"
   ]
  },
  {
   "cell_type": "code",
   "execution_count": 17,
   "metadata": {},
   "outputs": [],
   "source": [
    "# Adding a third LSTM layer and some Dropout regularisation\n",
    "regressor.add(LSTM(units = 70, return_sequences = True))\n",
    "regressor.add(Dropout(0.2))"
   ]
  },
  {
   "cell_type": "code",
   "execution_count": 18,
   "metadata": {},
   "outputs": [],
   "source": [
    "# Adding a fourth LSTM layer and some Dropout regularisation\n",
    "# we removed the return_sequences because we no longer return a \n",
    "# sequence but a value instead\n",
    "regressor.add(LSTM(units = 70))\n",
    "regressor.add(Dropout(0.2))"
   ]
  },
  {
   "cell_type": "markdown",
   "metadata": {},
   "source": [
    "### Adding Output Layer & Compiling\n",
    "\n",
    "The output has 1 dimension , i.e. one value to be predicted thus or output fully connected layer has dimensionality = 1.\n",
    "\n",
    "- **Optimizer**: rmsprop is recommended in the Keras documentation. The Adam optimizer is also a powerful choice.\n",
    "- **Loss function**: regression problems take the mean square error as most common"
   ]
  },
  {
   "cell_type": "code",
   "execution_count": 19,
   "metadata": {},
   "outputs": [],
   "source": [
    "# Adding the output layer\n",
    "regressor.add(Dense(units = 1))"
   ]
  },
  {
   "cell_type": "code",
   "execution_count": 20,
   "metadata": {},
   "outputs": [],
   "source": [
    "# Compiling the RNN\n",
    "regressor.compile(optimizer = 'adam', loss = 'mean_squared_error')"
   ]
  },
  {
   "cell_type": "markdown",
   "metadata": {},
   "source": [
    "## Train and deploy the RNN"
   ]
  },
  {
   "cell_type": "markdown",
   "metadata": {},
   "source": [
    "### Fit the RNN to the Training set\n",
    "\n",
    "We now want to train our RNN using the data in our **Training Set X** and **predictors in y** (ground truth in this case). Parameters that can be specified are the:\n",
    "\n",
    "- **Batch size**:  update the cell weights not on every stock price on every batch_size values; \n",
    "- **Number of epochs**: how many iterations to be used, i.e. number of forward and backward propagations for the update of the weights\n"
   ]
  },
  {
   "cell_type": "code",
   "execution_count": 21,
   "metadata": {},
   "outputs": [
    {
     "name": "stdout",
     "output_type": "stream",
     "text": [
      "WARNING:tensorflow:From /opt/conda/lib/python3.7/site-packages/tensorflow/python/ops/math_ops.py:3066: to_int32 (from tensorflow.python.ops.math_ops) is deprecated and will be removed in a future version.\n",
      "Instructions for updating:\n",
      "Use tf.cast instead.\n",
      "Epoch 1/100\n",
      "2427/2427 [==============================] - 18s 7ms/step - loss: 0.0146\n",
      "Epoch 2/100\n",
      "2427/2427 [==============================] - 15s 6ms/step - loss: 0.0028\n",
      "Epoch 3/100\n",
      "2427/2427 [==============================] - 14s 6ms/step - loss: 0.0028\n",
      "Epoch 4/100\n",
      "2427/2427 [==============================] - 14s 6ms/step - loss: 0.0025\n",
      "Epoch 5/100\n",
      "2427/2427 [==============================] - 14s 6ms/step - loss: 0.0024\n",
      "Epoch 6/100\n",
      "2427/2427 [==============================] - 14s 6ms/step - loss: 0.0023\n",
      "Epoch 7/100\n",
      "2427/2427 [==============================] - 15s 6ms/step - loss: 0.0023\n",
      "Epoch 8/100\n",
      "2427/2427 [==============================] - 14s 6ms/step - loss: 0.0023\n",
      "Epoch 9/100\n",
      "2427/2427 [==============================] - 14s 6ms/step - loss: 0.0019\n",
      "Epoch 10/100\n",
      "2427/2427 [==============================] - 14s 6ms/step - loss: 0.0019\n",
      "Epoch 11/100\n",
      "2427/2427 [==============================] - 14s 6ms/step - loss: 0.0019\n",
      "Epoch 12/100\n",
      "2427/2427 [==============================] - 14s 6ms/step - loss: 0.0017\n",
      "Epoch 13/100\n",
      "2427/2427 [==============================] - 14s 6ms/step - loss: 0.0015\n",
      "Epoch 14/100\n",
      "2427/2427 [==============================] - 14s 6ms/step - loss: 0.0016\n",
      "Epoch 15/100\n",
      "2427/2427 [==============================] - 14s 6ms/step - loss: 0.0018\n",
      "Epoch 16/100\n",
      "2427/2427 [==============================] - 14s 6ms/step - loss: 0.0015\n",
      "Epoch 17/100\n",
      "2427/2427 [==============================] - 14s 6ms/step - loss: 0.0014\n",
      "Epoch 18/100\n",
      "2427/2427 [==============================] - 14s 6ms/step - loss: 0.0013\n",
      "Epoch 19/100\n",
      "2427/2427 [==============================] - 14s 6ms/step - loss: 0.0015\n",
      "Epoch 20/100\n",
      "2427/2427 [==============================] - 15s 6ms/step - loss: 0.0013\n",
      "Epoch 21/100\n",
      "2427/2427 [==============================] - 15s 6ms/step - loss: 0.0013\n",
      "Epoch 22/100\n",
      "2427/2427 [==============================] - 15s 6ms/step - loss: 0.0013\n",
      "Epoch 23/100\n",
      "2427/2427 [==============================] - 15s 6ms/step - loss: 0.0014\n",
      "Epoch 24/100\n",
      "2427/2427 [==============================] - 14s 6ms/step - loss: 0.0013\n",
      "Epoch 25/100\n",
      "2427/2427 [==============================] - 14s 6ms/step - loss: 0.0014\n",
      "Epoch 26/100\n",
      "2427/2427 [==============================] - 14s 6ms/step - loss: 0.0013\n",
      "Epoch 27/100\n",
      "2427/2427 [==============================] - 14s 6ms/step - loss: 0.0011\n",
      "Epoch 28/100\n",
      "2427/2427 [==============================] - 14s 6ms/step - loss: 0.0013\n",
      "Epoch 29/100\n",
      "2427/2427 [==============================] - 14s 6ms/step - loss: 0.0011\n",
      "Epoch 30/100\n",
      "2427/2427 [==============================] - 14s 6ms/step - loss: 0.0012\n",
      "Epoch 31/100\n",
      "2427/2427 [==============================] - 14s 6ms/step - loss: 0.0013\n",
      "Epoch 32/100\n",
      "2427/2427 [==============================] - 14s 6ms/step - loss: 0.0011\n",
      "Epoch 33/100\n",
      "2427/2427 [==============================] - 14s 6ms/step - loss: 0.0011\n",
      "Epoch 34/100\n",
      "2427/2427 [==============================] - 14s 6ms/step - loss: 0.0011\n",
      "Epoch 35/100\n",
      "2427/2427 [==============================] - 14s 6ms/step - loss: 0.0010\n",
      "Epoch 36/100\n",
      "2427/2427 [==============================] - 15s 6ms/step - loss: 8.9001e-04\n",
      "Epoch 37/100\n",
      "2427/2427 [==============================] - 14s 6ms/step - loss: 9.0175e-04\n",
      "Epoch 38/100\n",
      "2427/2427 [==============================] - 14s 6ms/step - loss: 9.1214e-04\n",
      "Epoch 39/100\n",
      "2427/2427 [==============================] - 14s 6ms/step - loss: 8.8967e-04\n",
      "Epoch 40/100\n",
      "2427/2427 [==============================] - 14s 6ms/step - loss: 9.8628e-04\n",
      "Epoch 41/100\n",
      "2427/2427 [==============================] - 14s 6ms/step - loss: 9.5804e-04\n",
      "Epoch 42/100\n",
      "2427/2427 [==============================] - 14s 6ms/step - loss: 8.8211e-04\n",
      "Epoch 43/100\n",
      "2427/2427 [==============================] - 14s 6ms/step - loss: 8.8266e-04\n",
      "Epoch 44/100\n",
      "2427/2427 [==============================] - 15s 6ms/step - loss: 9.0922e-04\n",
      "Epoch 45/100\n",
      "2427/2427 [==============================] - 14s 6ms/step - loss: 8.3285e-04\n",
      "Epoch 46/100\n",
      "2427/2427 [==============================] - 14s 6ms/step - loss: 7.7093e-04\n",
      "Epoch 47/100\n",
      "2427/2427 [==============================] - 14s 6ms/step - loss: 8.6079e-04\n",
      "Epoch 48/100\n",
      "2427/2427 [==============================] - 14s 6ms/step - loss: 9.6134e-04\n",
      "Epoch 49/100\n",
      "2427/2427 [==============================] - 14s 6ms/step - loss: 8.8892e-04\n",
      "Epoch 50/100\n",
      "2427/2427 [==============================] - 15s 6ms/step - loss: 8.0147e-04\n",
      "Epoch 51/100\n",
      "2427/2427 [==============================] - 16s 6ms/step - loss: 8.1667e-04\n",
      "Epoch 52/100\n",
      "2427/2427 [==============================] - 15s 6ms/step - loss: 8.8006e-04\n",
      "Epoch 53/100\n",
      "2427/2427 [==============================] - 14s 6ms/step - loss: 7.6741e-04\n",
      "Epoch 54/100\n",
      "2427/2427 [==============================] - 14s 6ms/step - loss: 8.4603e-04\n",
      "Epoch 55/100\n",
      "2427/2427 [==============================] - 14s 6ms/step - loss: 7.9054e-04\n",
      "Epoch 56/100\n",
      "2427/2427 [==============================] - 16s 6ms/step - loss: 8.6469e-04\n",
      "Epoch 57/100\n",
      "2427/2427 [==============================] - 14s 6ms/step - loss: 7.5289e-04\n",
      "Epoch 58/100\n",
      "2427/2427 [==============================] - 14s 6ms/step - loss: 8.6766e-04\n",
      "Epoch 59/100\n",
      "2427/2427 [==============================] - 15s 6ms/step - loss: 7.1308e-04\n",
      "Epoch 60/100\n",
      "2427/2427 [==============================] - 17s 7ms/step - loss: 6.8946e-04\n",
      "Epoch 61/100\n",
      "2427/2427 [==============================] - 15s 6ms/step - loss: 8.1263e-04\n",
      "Epoch 62/100\n",
      "2427/2427 [==============================] - 16s 6ms/step - loss: 7.6934e-04\n",
      "Epoch 63/100\n",
      "2427/2427 [==============================] - 16s 7ms/step - loss: 7.1636e-04\n",
      "Epoch 64/100\n",
      "2427/2427 [==============================] - 15s 6ms/step - loss: 7.2612e-04\n",
      "Epoch 65/100\n",
      "2427/2427 [==============================] - 19s 8ms/step - loss: 7.4944e-04\n",
      "Epoch 66/100\n",
      "2427/2427 [==============================] - 14s 6ms/step - loss: 6.9604e-04\n",
      "Epoch 67/100\n",
      "2427/2427 [==============================] - 14s 6ms/step - loss: 7.1852e-04\n",
      "Epoch 68/100\n",
      "2427/2427 [==============================] - 16s 7ms/step - loss: 7.1976e-04\n",
      "Epoch 69/100\n",
      "2427/2427 [==============================] - 15s 6ms/step - loss: 7.1827e-04\n",
      "Epoch 70/100\n",
      "2427/2427 [==============================] - 16s 6ms/step - loss: 7.0496e-04\n",
      "Epoch 71/100\n",
      "2427/2427 [==============================] - 19s 8ms/step - loss: 7.2505e-04\n",
      "Epoch 72/100\n",
      "2427/2427 [==============================] - 19s 8ms/step - loss: 8.2833e-04\n",
      "Epoch 73/100\n",
      "2427/2427 [==============================] - 18s 7ms/step - loss: 7.5840e-04\n",
      "Epoch 74/100\n",
      "2427/2427 [==============================] - 17s 7ms/step - loss: 6.4357e-04\n",
      "Epoch 75/100\n",
      "2427/2427 [==============================] - 17s 7ms/step - loss: 7.0744e-04\n",
      "Epoch 76/100\n",
      "2427/2427 [==============================] - 17s 7ms/step - loss: 9.3085e-04\n",
      "Epoch 77/100\n",
      "2427/2427 [==============================] - 18s 8ms/step - loss: 6.0128e-04\n",
      "Epoch 78/100\n",
      "2427/2427 [==============================] - 18s 8ms/step - loss: 6.4488e-04\n",
      "Epoch 79/100\n",
      "2427/2427 [==============================] - 17s 7ms/step - loss: 6.4338e-04\n",
      "Epoch 80/100\n",
      "2427/2427 [==============================] - 17s 7ms/step - loss: 6.5169e-04\n",
      "Epoch 81/100\n",
      "2427/2427 [==============================] - 17s 7ms/step - loss: 7.0165e-04\n",
      "Epoch 82/100\n",
      "2427/2427 [==============================] - 17s 7ms/step - loss: 7.0947e-04\n",
      "Epoch 83/100\n",
      "2427/2427 [==============================] - 17s 7ms/step - loss: 7.4580e-04\n",
      "Epoch 84/100\n",
      "2427/2427 [==============================] - 19s 8ms/step - loss: 6.4375e-04\n",
      "Epoch 85/100\n",
      "2427/2427 [==============================] - 21s 9ms/step - loss: 6.6152e-04\n",
      "Epoch 86/100\n",
      "2427/2427 [==============================] - 17s 7ms/step - loss: 6.3287e-04\n",
      "Epoch 87/100\n",
      "2427/2427 [==============================] - 18s 7ms/step - loss: 6.6052e-04\n",
      "Epoch 88/100\n",
      "2427/2427 [==============================] - 19s 8ms/step - loss: 6.1827e-04\n",
      "Epoch 89/100\n",
      "2427/2427 [==============================] - 17s 7ms/step - loss: 7.4426e-04\n",
      "Epoch 90/100\n"
     ]
    },
    {
     "name": "stdout",
     "output_type": "stream",
     "text": [
      "2427/2427 [==============================] - 17s 7ms/step - loss: 6.1083e-04\n",
      "Epoch 91/100\n",
      "2427/2427 [==============================] - 17s 7ms/step - loss: 6.2171e-04\n",
      "Epoch 92/100\n",
      "2427/2427 [==============================] - 17s 7ms/step - loss: 6.7024e-04\n",
      "Epoch 93/100\n",
      "2427/2427 [==============================] - 17s 7ms/step - loss: 6.6338e-04\n",
      "Epoch 94/100\n",
      "2427/2427 [==============================] - 17s 7ms/step - loss: 6.2353e-04\n",
      "Epoch 95/100\n",
      "2427/2427 [==============================] - 17s 7ms/step - loss: 6.8529e-04\n",
      "Epoch 96/100\n",
      "2427/2427 [==============================] - 17s 7ms/step - loss: 6.3264e-04\n",
      "Epoch 97/100\n",
      "2427/2427 [==============================] - 18s 7ms/step - loss: 6.7623e-04\n",
      "Epoch 98/100\n",
      "2427/2427 [==============================] - 17s 7ms/step - loss: 6.3252e-04\n",
      "Epoch 99/100\n",
      "2427/2427 [==============================] - 18s 7ms/step - loss: 6.9561e-04\n",
      "Epoch 100/100\n",
      "2427/2427 [==============================] - 18s 7ms/step - loss: 6.1416e-04\n"
     ]
    },
    {
     "data": {
      "text/plain": [
       "<keras.callbacks.History at 0x7f542cf504e0>"
      ]
     },
     "execution_count": 21,
     "metadata": {},
     "output_type": "execute_result"
    }
   ],
   "source": [
    "# Fitting the RNN to the Training set\n",
    "regressor.fit(X_train, y_train, epochs = 100, batch_size = 32)"
   ]
  },
  {
   "cell_type": "code",
   "execution_count": 22,
   "metadata": {},
   "outputs": [
    {
     "data": {
      "text/html": [
       "<div>\n",
       "<style scoped>\n",
       "    .dataframe tbody tr th:only-of-type {\n",
       "        vertical-align: middle;\n",
       "    }\n",
       "\n",
       "    .dataframe tbody tr th {\n",
       "        vertical-align: top;\n",
       "    }\n",
       "\n",
       "    .dataframe thead th {\n",
       "        text-align: right;\n",
       "    }\n",
       "</style>\n",
       "<table border=\"1\" class=\"dataframe\">\n",
       "  <thead>\n",
       "    <tr style=\"text-align: right;\">\n",
       "      <th></th>\n",
       "      <th>Date</th>\n",
       "      <th>Open</th>\n",
       "      <th>High</th>\n",
       "      <th>Low</th>\n",
       "      <th>Close</th>\n",
       "      <th>Adj Close</th>\n",
       "      <th>Volume</th>\n",
       "    </tr>\n",
       "  </thead>\n",
       "  <tbody>\n",
       "    <tr>\n",
       "      <td>0</td>\n",
       "      <td>2019-07-31</td>\n",
       "      <td>51.509998</td>\n",
       "      <td>51.720001</td>\n",
       "      <td>50.049999</td>\n",
       "      <td>50.549999</td>\n",
       "      <td>50.210991</td>\n",
       "      <td>24169800</td>\n",
       "    </tr>\n",
       "    <tr>\n",
       "      <td>1</td>\n",
       "      <td>2019-08-01</td>\n",
       "      <td>50.520000</td>\n",
       "      <td>51.889999</td>\n",
       "      <td>49.470001</td>\n",
       "      <td>49.500000</td>\n",
       "      <td>49.168034</td>\n",
       "      <td>34020800</td>\n",
       "    </tr>\n",
       "    <tr>\n",
       "      <td>2</td>\n",
       "      <td>2019-08-02</td>\n",
       "      <td>49.090000</td>\n",
       "      <td>49.360001</td>\n",
       "      <td>48.500000</td>\n",
       "      <td>48.680000</td>\n",
       "      <td>48.353531</td>\n",
       "      <td>27881600</td>\n",
       "    </tr>\n",
       "    <tr>\n",
       "      <td>3</td>\n",
       "      <td>2019-08-05</td>\n",
       "      <td>47.759998</td>\n",
       "      <td>47.959999</td>\n",
       "      <td>46.570000</td>\n",
       "      <td>46.970001</td>\n",
       "      <td>46.655003</td>\n",
       "      <td>38936600</td>\n",
       "    </tr>\n",
       "    <tr>\n",
       "      <td>4</td>\n",
       "      <td>2019-08-06</td>\n",
       "      <td>47.150002</td>\n",
       "      <td>47.560001</td>\n",
       "      <td>46.770000</td>\n",
       "      <td>46.959999</td>\n",
       "      <td>46.959999</td>\n",
       "      <td>26119600</td>\n",
       "    </tr>\n",
       "    <tr>\n",
       "      <td>5</td>\n",
       "      <td>2019-08-07</td>\n",
       "      <td>46.299999</td>\n",
       "      <td>46.880001</td>\n",
       "      <td>45.970001</td>\n",
       "      <td>46.730000</td>\n",
       "      <td>46.730000</td>\n",
       "      <td>29440400</td>\n",
       "    </tr>\n",
       "    <tr>\n",
       "      <td>6</td>\n",
       "      <td>2019-08-08</td>\n",
       "      <td>46.160000</td>\n",
       "      <td>47.369999</td>\n",
       "      <td>45.910000</td>\n",
       "      <td>47.169998</td>\n",
       "      <td>47.169998</td>\n",
       "      <td>30643700</td>\n",
       "    </tr>\n",
       "    <tr>\n",
       "      <td>7</td>\n",
       "      <td>2019-08-09</td>\n",
       "      <td>46.939999</td>\n",
       "      <td>47.000000</td>\n",
       "      <td>45.779999</td>\n",
       "      <td>45.980000</td>\n",
       "      <td>45.980000</td>\n",
       "      <td>24975500</td>\n",
       "    </tr>\n",
       "    <tr>\n",
       "      <td>8</td>\n",
       "      <td>2019-08-12</td>\n",
       "      <td>45.759998</td>\n",
       "      <td>46.070000</td>\n",
       "      <td>45.439999</td>\n",
       "      <td>45.599998</td>\n",
       "      <td>45.599998</td>\n",
       "      <td>18490300</td>\n",
       "    </tr>\n",
       "    <tr>\n",
       "      <td>9</td>\n",
       "      <td>2019-08-13</td>\n",
       "      <td>45.490002</td>\n",
       "      <td>47.049999</td>\n",
       "      <td>45.360001</td>\n",
       "      <td>46.840000</td>\n",
       "      <td>46.840000</td>\n",
       "      <td>28959500</td>\n",
       "    </tr>\n",
       "    <tr>\n",
       "      <td>10</td>\n",
       "      <td>2019-08-14</td>\n",
       "      <td>46.060001</td>\n",
       "      <td>46.630001</td>\n",
       "      <td>45.650002</td>\n",
       "      <td>45.869999</td>\n",
       "      <td>45.869999</td>\n",
       "      <td>25650200</td>\n",
       "    </tr>\n",
       "    <tr>\n",
       "      <td>11</td>\n",
       "      <td>2019-08-15</td>\n",
       "      <td>46.099998</td>\n",
       "      <td>46.180000</td>\n",
       "      <td>45.439999</td>\n",
       "      <td>45.700001</td>\n",
       "      <td>45.700001</td>\n",
       "      <td>21896000</td>\n",
       "    </tr>\n",
       "    <tr>\n",
       "      <td>12</td>\n",
       "      <td>2019-08-16</td>\n",
       "      <td>46.340000</td>\n",
       "      <td>46.680000</td>\n",
       "      <td>46.060001</td>\n",
       "      <td>46.500000</td>\n",
       "      <td>46.500000</td>\n",
       "      <td>22701800</td>\n",
       "    </tr>\n",
       "    <tr>\n",
       "      <td>13</td>\n",
       "      <td>2019-08-19</td>\n",
       "      <td>47.459999</td>\n",
       "      <td>47.599998</td>\n",
       "      <td>47.040001</td>\n",
       "      <td>47.230000</td>\n",
       "      <td>47.230000</td>\n",
       "      <td>21403600</td>\n",
       "    </tr>\n",
       "    <tr>\n",
       "      <td>14</td>\n",
       "      <td>2019-08-20</td>\n",
       "      <td>47.029999</td>\n",
       "      <td>47.119999</td>\n",
       "      <td>46.459999</td>\n",
       "      <td>46.599998</td>\n",
       "      <td>46.599998</td>\n",
       "      <td>23113300</td>\n",
       "    </tr>\n",
       "    <tr>\n",
       "      <td>15</td>\n",
       "      <td>2019-08-21</td>\n",
       "      <td>47.110001</td>\n",
       "      <td>47.290001</td>\n",
       "      <td>46.889999</td>\n",
       "      <td>47.150002</td>\n",
       "      <td>47.150002</td>\n",
       "      <td>15915000</td>\n",
       "    </tr>\n",
       "    <tr>\n",
       "      <td>16</td>\n",
       "      <td>2019-08-22</td>\n",
       "      <td>47.279999</td>\n",
       "      <td>47.430000</td>\n",
       "      <td>46.689999</td>\n",
       "      <td>46.779999</td>\n",
       "      <td>46.779999</td>\n",
       "      <td>19783000</td>\n",
       "    </tr>\n",
       "    <tr>\n",
       "      <td>17</td>\n",
       "      <td>2019-08-23</td>\n",
       "      <td>46.349998</td>\n",
       "      <td>46.630001</td>\n",
       "      <td>44.799999</td>\n",
       "      <td>44.959999</td>\n",
       "      <td>44.959999</td>\n",
       "      <td>32814000</td>\n",
       "    </tr>\n",
       "    <tr>\n",
       "      <td>18</td>\n",
       "      <td>2019-08-26</td>\n",
       "      <td>45.820000</td>\n",
       "      <td>45.820000</td>\n",
       "      <td>45.250000</td>\n",
       "      <td>45.560001</td>\n",
       "      <td>45.560001</td>\n",
       "      <td>22080500</td>\n",
       "    </tr>\n",
       "    <tr>\n",
       "      <td>19</td>\n",
       "      <td>2019-08-27</td>\n",
       "      <td>45.869999</td>\n",
       "      <td>46.119999</td>\n",
       "      <td>45.500000</td>\n",
       "      <td>45.790001</td>\n",
       "      <td>45.790001</td>\n",
       "      <td>16925500</td>\n",
       "    </tr>\n",
       "    <tr>\n",
       "      <td>20</td>\n",
       "      <td>2019-08-28</td>\n",
       "      <td>45.700001</td>\n",
       "      <td>45.910000</td>\n",
       "      <td>45.369999</td>\n",
       "      <td>45.790001</td>\n",
       "      <td>45.790001</td>\n",
       "      <td>14888800</td>\n",
       "    </tr>\n",
       "    <tr>\n",
       "      <td>21</td>\n",
       "      <td>2019-08-29</td>\n",
       "      <td>46.459999</td>\n",
       "      <td>47.220001</td>\n",
       "      <td>46.400002</td>\n",
       "      <td>46.869999</td>\n",
       "      <td>46.869999</td>\n",
       "      <td>17803800</td>\n",
       "    </tr>\n",
       "    <tr>\n",
       "      <td>22</td>\n",
       "      <td>2019-08-30</td>\n",
       "      <td>47.240002</td>\n",
       "      <td>47.790001</td>\n",
       "      <td>47.160000</td>\n",
       "      <td>47.410000</td>\n",
       "      <td>47.410000</td>\n",
       "      <td>16922600</td>\n",
       "    </tr>\n",
       "  </tbody>\n",
       "</table>\n",
       "</div>"
      ],
      "text/plain": [
       "          Date       Open       High        Low      Close  Adj Close  \\\n",
       "0   2019-07-31  51.509998  51.720001  50.049999  50.549999  50.210991   \n",
       "1   2019-08-01  50.520000  51.889999  49.470001  49.500000  49.168034   \n",
       "2   2019-08-02  49.090000  49.360001  48.500000  48.680000  48.353531   \n",
       "3   2019-08-05  47.759998  47.959999  46.570000  46.970001  46.655003   \n",
       "4   2019-08-06  47.150002  47.560001  46.770000  46.959999  46.959999   \n",
       "5   2019-08-07  46.299999  46.880001  45.970001  46.730000  46.730000   \n",
       "6   2019-08-08  46.160000  47.369999  45.910000  47.169998  47.169998   \n",
       "7   2019-08-09  46.939999  47.000000  45.779999  45.980000  45.980000   \n",
       "8   2019-08-12  45.759998  46.070000  45.439999  45.599998  45.599998   \n",
       "9   2019-08-13  45.490002  47.049999  45.360001  46.840000  46.840000   \n",
       "10  2019-08-14  46.060001  46.630001  45.650002  45.869999  45.869999   \n",
       "11  2019-08-15  46.099998  46.180000  45.439999  45.700001  45.700001   \n",
       "12  2019-08-16  46.340000  46.680000  46.060001  46.500000  46.500000   \n",
       "13  2019-08-19  47.459999  47.599998  47.040001  47.230000  47.230000   \n",
       "14  2019-08-20  47.029999  47.119999  46.459999  46.599998  46.599998   \n",
       "15  2019-08-21  47.110001  47.290001  46.889999  47.150002  47.150002   \n",
       "16  2019-08-22  47.279999  47.430000  46.689999  46.779999  46.779999   \n",
       "17  2019-08-23  46.349998  46.630001  44.799999  44.959999  44.959999   \n",
       "18  2019-08-26  45.820000  45.820000  45.250000  45.560001  45.560001   \n",
       "19  2019-08-27  45.869999  46.119999  45.500000  45.790001  45.790001   \n",
       "20  2019-08-28  45.700001  45.910000  45.369999  45.790001  45.790001   \n",
       "21  2019-08-29  46.459999  47.220001  46.400002  46.869999  46.869999   \n",
       "22  2019-08-30  47.240002  47.790001  47.160000  47.410000  47.410000   \n",
       "\n",
       "      Volume  \n",
       "0   24169800  \n",
       "1   34020800  \n",
       "2   27881600  \n",
       "3   38936600  \n",
       "4   26119600  \n",
       "5   29440400  \n",
       "6   30643700  \n",
       "7   24975500  \n",
       "8   18490300  \n",
       "9   28959500  \n",
       "10  25650200  \n",
       "11  21896000  \n",
       "12  22701800  \n",
       "13  21403600  \n",
       "14  23113300  \n",
       "15  15915000  \n",
       "16  19783000  \n",
       "17  32814000  \n",
       "18  22080500  \n",
       "19  16925500  \n",
       "20  14888800  \n",
       "21  17803800  \n",
       "22  16922600  "
      ]
     },
     "execution_count": 22,
     "metadata": {},
     "output_type": "execute_result"
    }
   ],
   "source": [
    "# Getting the real stock price data file for testing our RNN\n",
    "\n",
    "dataset_test = pd.read_csv('INTEL_test.csv')\n",
    "dataset_test"
   ]
  },
  {
   "cell_type": "code",
   "execution_count": 23,
   "metadata": {},
   "outputs": [
    {
     "data": {
      "text/plain": [
       "23"
      ]
     },
     "execution_count": 23,
     "metadata": {},
     "output_type": "execute_result"
    }
   ],
   "source": [
    "real_stock_price = dataset_test.iloc[:, 1:2].values\n",
    "real_stock_price.size"
   ]
  },
  {
   "cell_type": "code",
   "execution_count": 24,
   "metadata": {},
   "outputs": [
    {
     "data": {
      "text/plain": [
       "array([[51.509998],\n",
       "       [50.52    ],\n",
       "       [49.09    ],\n",
       "       [47.759998],\n",
       "       [47.150002],\n",
       "       [46.299999],\n",
       "       [46.16    ],\n",
       "       [46.939999],\n",
       "       [45.759998],\n",
       "       [45.490002],\n",
       "       [46.060001],\n",
       "       [46.099998],\n",
       "       [46.34    ],\n",
       "       [47.459999],\n",
       "       [47.029999],\n",
       "       [47.110001],\n",
       "       [47.279999],\n",
       "       [46.349998],\n",
       "       [45.82    ],\n",
       "       [45.869999],\n",
       "       [45.700001],\n",
       "       [46.459999],\n",
       "       [47.240002]])"
      ]
     },
     "execution_count": 24,
     "metadata": {},
     "output_type": "execute_result"
    }
   ],
   "source": [
    "real_stock_price"
   ]
  },
  {
   "cell_type": "code",
   "execution_count": 25,
   "metadata": {},
   "outputs": [
    {
     "data": {
      "text/plain": [
       "2540"
      ]
     },
     "execution_count": 25,
     "metadata": {},
     "output_type": "execute_result"
    }
   ],
   "source": [
    "# axis = 0 means concatenate the lines (i.e. vertical axis)\n",
    "dataset_total = pd.concat((dataset_train['Open'], dataset_test['Open']), axis = 0) \n",
    "dataset_total.size"
   ]
  },
  {
   "cell_type": "code",
   "execution_count": 26,
   "metadata": {},
   "outputs": [
    {
     "data": {
      "text/plain": [
       "161"
      ]
     },
     "execution_count": 26,
     "metadata": {},
     "output_type": "execute_result"
    }
   ],
   "source": [
    "dataset_test.size"
   ]
  },
  {
   "cell_type": "code",
   "execution_count": 27,
   "metadata": {},
   "outputs": [
    {
     "data": {
      "text/plain": [
       "113"
      ]
     },
     "execution_count": 27,
     "metadata": {},
     "output_type": "execute_result"
    }
   ],
   "source": [
    "# the difference in the length of the first two gives us \n",
    "# the first day in 2019, and we need to go back 90 days to get the necessary range\n",
    "inputs = dataset_total[len(dataset_total) - len(dataset_test) - 90:].values\n",
    "inputs.size"
   ]
  },
  {
   "cell_type": "code",
   "execution_count": 28,
   "metadata": {},
   "outputs": [
    {
     "data": {
      "text/plain": [
       "array([[0.89051458],\n",
       "       [0.85564501],\n",
       "       [0.86417949],\n",
       "       [0.87076325],\n",
       "       [0.86247259],\n",
       "       [0.87588393],\n",
       "       [0.88905148],\n",
       "       [0.89368447],\n",
       "       [0.90587662],\n",
       "       [0.91172887],\n",
       "       [0.92343333],\n",
       "       [0.91197269],\n",
       "       [0.91367957],\n",
       "       [0.91294809],\n",
       "       [0.92367713],\n",
       "       [0.93465009],\n",
       "       [0.94074616],\n",
       "       [0.94562304],\n",
       "       [0.98902707],\n",
       "       [0.99561083],\n",
       "       [0.98195569],\n",
       "       [1.        ],\n",
       "       [0.99097783],\n",
       "       [0.98561327],\n",
       "       [0.85003665],\n",
       "       [0.8361375 ],\n",
       "       [0.80760792],\n",
       "       [0.81004631],\n",
       "       [0.80273104],\n",
       "       [0.80955872],\n",
       "       [0.7893197 ],\n",
       "       [0.79785416],\n",
       "       [0.78810051],\n",
       "       [0.73201665],\n",
       "       [0.69641551],\n",
       "       [0.66934901],\n",
       "       [0.66569132],\n",
       "       [0.65935135],\n",
       "       [0.67276279],\n",
       "       [0.66569132],\n",
       "       [0.63691785],\n",
       "       [0.64520851],\n",
       "       [0.64057554],\n",
       "       [0.62155572],\n",
       "       [0.65130458],\n",
       "       [0.65301149],\n",
       "       [0.62106801],\n",
       "       [0.64423311],\n",
       "       [0.64130702],\n",
       "       [0.64301392],\n",
       "       [0.64081934],\n",
       "       [0.66398444],\n",
       "       [0.65520607],\n",
       "       [0.66739822],\n",
       "       [0.69129483],\n",
       "       [0.71641061],\n",
       "       [0.70202387],\n",
       "       [0.70031697],\n",
       "       [0.68154116],\n",
       "       [0.68910022],\n",
       "       [0.70397466],\n",
       "       [0.7217752 ],\n",
       "       [0.73128505],\n",
       "       [0.70885155],\n",
       "       [0.71982451],\n",
       "       [0.72372597],\n",
       "       [0.72592058],\n",
       "       [0.73811273],\n",
       "       [0.72884665],\n",
       "       [0.7659108 ],\n",
       "       [0.73226045],\n",
       "       [0.73884421],\n",
       "       [0.73518654],\n",
       "       [0.72518898],\n",
       "       [0.71884911],\n",
       "       [0.73250424],\n",
       "       [0.74811027],\n",
       "       [0.75883933],\n",
       "       [0.78322363],\n",
       "       [0.78102904],\n",
       "       [0.77103148],\n",
       "       [0.76566691],\n",
       "       [0.78224823],\n",
       "       [0.78346742],\n",
       "       [0.83199222],\n",
       "       [0.83150454],\n",
       "       [0.84442816],\n",
       "       [0.84881736],\n",
       "       [0.82053158],\n",
       "       [0.82492075],\n",
       "       [0.82004387],\n",
       "       [0.79590346],\n",
       "       [0.76103392],\n",
       "       [0.72860276],\n",
       "       [0.71372843],\n",
       "       [0.69300171],\n",
       "       [0.68958793],\n",
       "       [0.70860766],\n",
       "       [0.67983416],\n",
       "       [0.6732505 ],\n",
       "       [0.68714952],\n",
       "       [0.68812482],\n",
       "       [0.6939771 ],\n",
       "       [0.72128749],\n",
       "       [0.71080224],\n",
       "       [0.71275304],\n",
       "       [0.71689832],\n",
       "       [0.6942209 ],\n",
       "       [0.68129727],\n",
       "       [0.68251646],\n",
       "       [0.67837118],\n",
       "       [0.69690319],\n",
       "       [0.71592302]])"
      ]
     },
     "execution_count": 28,
     "metadata": {},
     "output_type": "execute_result"
    }
   ],
   "source": [
    "# we did not use iloc from panda so lets reshape the numpy array for \n",
    "# compatibility: i.e. all the values from input lines to be stacked in one \n",
    "# column. The -1 means that the numpy has no knowledge of how the \n",
    "# values were stored in lines. The 1 means we want to put them in one \n",
    "# column.\n",
    "\n",
    "inputs = inputs.reshape(-1,1) \n",
    "\n",
    "# apply the feature scaler\n",
    "inputs = sc.transform(inputs)\n",
    "inputs"
   ]
  },
  {
   "cell_type": "code",
   "execution_count": 37,
   "metadata": {},
   "outputs": [],
   "source": [
    "# Getting the predicted stock price of 2019\n",
    "X_test = []"
   ]
  },
  {
   "cell_type": "code",
   "execution_count": 38,
   "metadata": {},
   "outputs": [],
   "source": [
    "# the first 90 from inputs are from training set; starting\n",
    "# from 90 and get the extra 20, i.e. up to 110\n",
    "for i in range(90, 110): \n",
    "    X_test.append(inputs[i-90:i, 0])"
   ]
  },
  {
   "cell_type": "code",
   "execution_count": 39,
   "metadata": {},
   "outputs": [],
   "source": [
    "X_test = np.array(X_test) # not 3D structure yet"
   ]
  },
  {
   "cell_type": "code",
   "execution_count": 40,
   "metadata": {},
   "outputs": [],
   "source": [
    "# create a 3D structure\n",
    "X_test = np.reshape(X_test, (X_test.shape[0], X_test.shape[1], 1))"
   ]
  },
  {
   "cell_type": "code",
   "execution_count": 41,
   "metadata": {},
   "outputs": [],
   "source": [
    "predicted_stock_price = regressor.predict(X_test)"
   ]
  },
  {
   "cell_type": "code",
   "execution_count": 42,
   "metadata": {},
   "outputs": [
    {
     "data": {
      "text/plain": [
       "20"
      ]
     },
     "execution_count": 42,
     "metadata": {},
     "output_type": "execute_result"
    }
   ],
   "source": [
    "# need to inverse the scaling to get meaningful predicted stock price # outputs\n",
    "predicted_stock_price = sc.inverse_transform(predicted_stock_price) \n",
    "predicted_stock_price.size"
   ]
  },
  {
   "cell_type": "markdown",
   "metadata": {},
   "source": [
    "### Result Visualization\n"
   ]
  },
  {
   "cell_type": "code",
   "execution_count": 43,
   "metadata": {},
   "outputs": [
    {
     "data": {
      "image/png": "[encoded data removed]",
      "text/plain": [
       "<Figure size 432x288 with 1 Axes>"
      ]
     },
     "metadata": {
      "needs_background": "light"
     },
     "output_type": "display_data"
    }
   ],
   "source": [
    "# Visualising the results\n",
    "\n",
    "plt.plot(real_stock_price, color = 'red', label = 'Real Intel Stock Price')\n",
    "\n",
    "plt.plot(predicted_stock_price, color = 'blue', label = 'Predicted Intel Stock Price')\n",
    "\n",
    "plt.title('Intel Stock Price Prediction')\n",
    "plt.xlabel('Time')\n",
    "plt.ylabel('Intel Stock Price')\n",
    "plt.legend()\n",
    "\n",
    "plt.show()"
   ]
  },
  {
   "cell_type": "markdown",
   "metadata": {},
   "source": [
    "Some observations:\n",
    "- The prediction lags behind the actual price curve because the model cannot react to fast non-linear changes. Spikes are examples of fast non-linear changes\n",
    "- Model reacts pretty well to smooth changes"
   ]
  },
  {
   "cell_type": "markdown",
   "metadata": {},
   "source": [
    "### Compute the RMSE\n",
    "\n",
    "If we need to compute the RMSE for our Stock Price Prediction problem, we use the real stock price and predicted stock price as shown. \n"
   ]
  },
  {
   "cell_type": "code",
   "execution_count": 44,
   "metadata": {},
   "outputs": [],
   "source": [
    "#import the libraries\n",
    "import math\n",
    "from sklearn.metrics import mean_squared_error"
   ]
  },
  {
   "cell_type": "code",
   "execution_count": 47,
   "metadata": {},
   "outputs": [
    {
     "data": {
      "text/plain": [
       "0.7596389700507931"
      ]
     },
     "execution_count": 47,
     "metadata": {},
     "output_type": "execute_result"
    }
   ],
   "source": [
    "rmse = math.sqrt( mean_squared_error( real_stock_price[0:20,:], predicted_stock_price))\n",
    "rmse"
   ]
  },
  {
   "cell_type": "code",
   "execution_count": null,
   "metadata": {},
   "outputs": [],
   "source": []
  }
 ],
 "metadata": {
  "kernelspec": {
   "display_name": "Python 3",
   "language": "python",
   "name": "python3"
  },
  "language_info": {
   "codemirror_mode": {
    "name": "ipython",
    "version": 3
   },
   "file_extension": ".py",
   "mimetype": "text/x-python",
   "name": "python",
   "nbconvert_exporter": "python",
   "pygments_lexer": "ipython3",
   "version": "3.7.3"
  }
 },
 "nbformat": 4,
 "nbformat_minor": 2
}
